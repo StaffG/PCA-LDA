{
 "cells": [
  {
   "cell_type": "markdown",
   "metadata": {},
   "source": [
    "# PIE facial database"
   ]
  },
  {
   "cell_type": "code",
   "execution_count": 1,
   "metadata": {},
   "outputs": [],
   "source": [
    "# http://www.cad.zju.edu.cn/home/dengcai/Data/FaceData.html\n",
    "# https://github.com/jindongwang/transferlearning/blob/master/data/dataset.md\n",
    "    \n",
    "import pandas as pd\n",
    "import numpy as np\n",
    "import matplotlib.pyplot as plt\n",
    "from sklearn.preprocessing import StandardScaler\n",
    "from sklearn.model_selection import train_test_split\n",
    "from sklearn.decomposition import PCA\n",
    "from sklearn.neighbors import KNeighborsClassifier\n",
    "from sklearn.metrics import precision_score"
   ]
  },
  {
   "cell_type": "code",
   "execution_count": 2,
   "metadata": {},
   "outputs": [],
   "source": [
    "fea = pd.read_csv(\"fea64.csv\", header=None) \n",
    "gnd = pd.read_csv(\"gnd64.csv\", header=None) "
   ]
  },
  {
   "cell_type": "code",
   "execution_count": 3,
   "metadata": {},
   "outputs": [
    {
     "name": "stdout",
     "output_type": "stream",
     "text": [
      "fea: (11554, 4096)\n",
      "gnd: (11554, 1)\n"
     ]
    }
   ],
   "source": [
    "print('fea:', fea.shape) # each row is a 64x64 image (11554 examples)\n",
    "print('gnd:', gnd.shape) # label: 68 classes corresponding to the 68 subjects (11554 examples) "
   ]
  },
  {
   "cell_type": "code",
   "execution_count": 4,
   "metadata": {},
   "outputs": [
    {
     "data": {
      "image/png": "[encoded data removed]",
      "text/plain": [
       "<Figure size 432x288 with 1 Axes>"
      ]
     },
     "metadata": {
      "needs_background": "light"
     },
     "output_type": "display_data"
    }
   ],
   "source": [
    "ind = np.random.randint(fea.shape[0])\n",
    "img = fea.values[ind,:].reshape(64,64).T\n",
    "imgplot = plt.imshow(img)"
   ]
  },
  {
   "cell_type": "code",
   "execution_count": 5,
   "metadata": {},
   "outputs": [
    {
     "name": "stdout",
     "output_type": "stream",
     "text": [
      "(577, 4096) (577, 1)\n",
      "(10977, 4096) (10977, 1)\n"
     ]
    }
   ],
   "source": [
    "X_train, X_test, y_train, y_test = train_test_split(fea, gnd, test_size=0.95)\n",
    "print (X_train.shape, y_train.shape)\n",
    "print (X_test.shape, y_test.shape)"
   ]
  },
  {
   "cell_type": "markdown",
   "metadata": {},
   "source": [
    "# Principal Component Analysis (PCA)"
   ]
  },
  {
   "cell_type": "markdown",
   "metadata": {},
   "source": [
    "Given a collection of of n m-dimensional samples stored in the columns of matrix $X = [x_1 , . . . , x_n ]$. We also assume that data are centered. Otherwise, we can always substract the mean $m = \\frac{1}{n} \\sum_{i=1}^{n}x_i$.\n",
    "\n",
    "An efficient way of doing this is:\n",
    "\n",
    "\\begin{align*}\n",
    "X − M = X \\left(I − \\frac{1}{n}1_n1_n^T \\right)\n",
    "\\end{align*}\n",
    "\n",
    "## Statistical perspective\n",
    "We want to find the vector $w$ such that the variance of the projected features $y_i = w_i^Tx_i$ is maximised.The variance can be expressed:\n",
    "\n",
    "\\begin{align*}\n",
    "\\sigma_y^2 = \\frac{1}{n} \\sum_{i=1}^{n}(y_i - \\mu_y)\n",
    "\\end{align*}\n",
    "\n",
    "Where $\\mu_y$ is the mean. Since we supposed the data are centered, $\\mu_y = 0$.\n",
    "\n",
    "The maximiser is:\n",
    "\n",
    "\\begin{align*}\n",
    "w^* & = \\mathrm{argmax}_{w} \\frac{1}{2n} \\sum_{i=1}^{n}(w^Tx_i)^2 = \\mathrm{argmax}_{w}  \\frac{1}{2n} \\sum_{i=1}^{n}w^Tx_i x_i^Tw\\\\\n",
    "& = \\mathrm{argmax}_{w} \\frac{1}{2} w^T\\frac{XX^T}{n}w  = \\mathrm{argmax}_{w} \\frac{1}{2} w^T S_tw  \n",
    "\\end{align*}\n",
    "\n",
    "Where $S_t = \\frac{XX^T}{n}$ is called the covariance matrix (or total-scatter matrix). We add the following constraint not to end up with a trivial solution $w=\\infty$.\n",
    "\n",
    "\\begin{align*}\n",
    "w^*  &= \\mathrm{argmax}_{w} \\frac{1}{2} w^T S_tw \\\\\n",
    "\\text{subject to } &w^Tw=1\n",
    "\\end{align*}\n",
    "\n",
    "The corresponding Lagrangian is:\n",
    "\n",
    "\\begin{align*}\n",
    "L(w, \\lambda) = \\frac{1}{2}w^TS_tw - \\lambda(w^Tw-1)\n",
    "\\end{align*}\n",
    "\n",
    "Taking the derivative:\n",
    "\\begin{align*}\n",
    "\\frac{ \\partial L}{\\partial w} = S_tw - \\lambda w = 0\n",
    "\\end{align*}\n",
    "\n",
    "This means $w$ is an eigenvector of $S_t$, and $\\lambda$ the corresponding eigenvalue. Plugging back this expression in the initial problem:\n",
    "\n",
    "\\begin{align*}\n",
    "\\lambda^* = \\mathrm{argmax}_{\\lambda} \\lambda\n",
    "\\end{align*}\n",
    "\n",
    "So the largest eigenvalue is chosen.\n",
    "\n",
    "This reasonning can be applied for $y_i \\in \\mathbb{R}^d$:\n",
    "\n",
    "\\begin{align*}\n",
    "W^* =& \\mathrm{argmax}_{W} \\frac{1}{2n} \\sum_{k=1}^{d} \\sum_{i=1}^{n} y_{ki}^2  = \\mathrm{argmax}_{W} \\frac{1}{2n} \\sum_{k=1}^{d} \\sum_{i=1}^{n} (w_k^Tx_i)^2 \\\\\n",
    "& = \\mathrm{argmax}_{W} \\frac{1}{2n} \\sum_{k=1}^{d} \\sum_{i=1}^{n} w_k^Tx_ix_i^Tw_k \\\\\n",
    "& = \\mathrm{argmax}_{W} \\frac{1}{2n} \\sum_{k=1}^{d}  w_k^T \\left(\\sum_{i=1}^{n}x_ix_i^T \\right)w_k \\\\\n",
    "& = \\mathrm{argmax}_{W} \\frac{1}{2} \\sum_{k=1}^{d}  w_k^T S_t w_k \\\\\n",
    "& = \\mathrm{argmax}_{W} \\frac{1}{2} \\mathrm{Tr} (W^T S_t W) \\\\\n",
    "\\end{align*}\n",
    "\n",
    "So the general problem is:\n",
    "\n",
    "\\begin{align*}\n",
    "\\max_W \\mathrm{Tr} (W^T S_tW) \\\\\n",
    "\\text{subject to } &W^TW=1\n",
    "\\end{align*}\n",
    "\n",
    "Taking the partial derivative of the Lagrangian leads to a similar condition:\n",
    "\n",
    "\\begin{align*}\n",
    "S_tW=W\\Lambda\n",
    "\\end{align*}\n",
    "\n",
    "Where $\\Lambda$ is the matrix of the Lagrange multipliers.\n",
    "\n",
    "Assuming the eigendecomposition of $S_t$ is $S_t = U \\Lambda U^T$, then $W = U_d = [u_1, ..., u_d]$.\n",
    "\n",
    "Similarly as above, the cost function can be written as:\n",
    "\n",
    "\\begin{align*}\n",
    "    \\mathrm{Tr}(W^TS_TW) = \\mathrm{Tr}(W^T U \\Lambda U^T W) = \\mathrm{Tr}(\\Lambda_d) = \\sum_{k=1}^{d} \\lambda_k\n",
    "\\end{align*}\n",
    "\n",
    "Since $\\lambda_k \\ge 0$, maximisation of the above is equivalent to take the $d$ largest eigenvalues.\n",
    "\n",
    "## Practical computation\n",
    "The way of doing this is similar to the mathematical proof above, except for computing the eigenvectors / eigenvalues.\n",
    "\n",
    "Since we assume the number of features is large compared to the number of examples ($m \\ge n$), instead of applying eigenanalysis of $X^T X$, we compute them on $X X^T$ of dimension $m \\times m$ ($X$ is the matrix of the column vector $x_i$). The eigenvalues of the two matrices are the same. The eigenvectors are not and can be computed this way:\n",
    "\n",
    "\\begin{align*}\n",
    "U = X V \\Lambda ^{- \\frac{1}{2}}\n",
    "\\end{align*}\n",
    "\n",
    "The full procedure is:\n",
    "1. Compute dot product matrix: $X^T X = (x_i − m)^T (x_i − m)$\n",
    "2. Eigenanalysis: $X^T X = VΛV T$\n",
    "3. Compute eigenvectors: $U = XVΛ^{-\\frac{1}{2}}$ ( for the whitened PCA: $U = XVΛ^{-1}$)\n",
    "4. Keep specific number of first components: $U_d = (u_1, ..., u_d)$\n",
    "5. Compute d features: $Y = U_d^T X$"
   ]
  },
  {
   "cell_type": "markdown",
   "metadata": {},
   "source": [
    "## Algorithm (PCA)"
   ]
  },
  {
   "cell_type": "code",
   "execution_count": 6,
   "metadata": {},
   "outputs": [],
   "source": [
    "def PCA_py(data, dim):\n",
    "    data = data.values\n",
    "    \n",
    "    n, m = data.shape\n",
    "    \n",
    "    mean = 1/n*np.sum(data, axis = 0)\n",
    "    data = data - mean\n",
    "    \n",
    "    #data = data.T @ (np.eye(n) - 1/n*np.ones((n, 1)) @ np.ones((1, n)))\n",
    "    \n",
    "    St = data @ data.T\n",
    "    \n",
    "    w, v = np.linalg.eig(St)\n",
    "    \n",
    "    idx = w.argsort()[::-1]   \n",
    "    w = w[idx]\n",
    "    w = np.diag(w)\n",
    "    v = v[:,idx]\n",
    "    \n",
    "    w_inv = np.linalg.inv(w)\n",
    "    w_inv[w_inv <0] = 0\n",
    "    \n",
    "    u = data.T @ v @ w_inv**0.5\n",
    "    \n",
    "    np.nan_to_num(u)\n",
    "    \n",
    "    u_red = u[:,:dim]\n",
    "    \n",
    "    y = data @ u_red\n",
    "    \n",
    "    np.nan_to_num(y)\n",
    "    \n",
    "    data_reconstruct = y @ u_red.T + mean\n",
    "    \n",
    "    return u_red, y, data_reconstruct"
   ]
  },
  {
   "cell_type": "markdown",
   "metadata": {},
   "source": [
    "## Plot in 2D"
   ]
  },
  {
   "cell_type": "code",
   "execution_count": 7,
   "metadata": {},
   "outputs": [],
   "source": [
    "pca = PCA(n_components=2)\n",
    "pca_sk = pca.fit_transform(StandardScaler().fit_transform(X_train.astype(float)))"
   ]
  },
  {
   "cell_type": "code",
   "execution_count": 8,
   "metadata": {},
   "outputs": [
    {
     "data": {
      "text/plain": [
       "<matplotlib.collections.PathCollection at 0x7efbf6092a58>"
      ]
     },
     "execution_count": 8,
     "metadata": {},
     "output_type": "execute_result"
    },
    {
     "data": {
      "image/png": "[encoded data removed]",
      "text/plain": [
       "<Figure size 432x288 with 1 Axes>"
      ]
     },
     "metadata": {
      "needs_background": "light"
     },
     "output_type": "display_data"
    }
   ],
   "source": [
    "plt.scatter(pca_sk[:,0], pca_sk[:,1])"
   ]
  },
  {
   "cell_type": "code",
   "execution_count": 9,
   "metadata": {},
   "outputs": [],
   "source": [
    "u_red, pca_py, data_re = PCA_py(X_train, 2)"
   ]
  },
  {
   "cell_type": "code",
   "execution_count": 10,
   "metadata": {},
   "outputs": [
    {
     "data": {
      "text/plain": [
       "<matplotlib.collections.PathCollection at 0x7efbf45079b0>"
      ]
     },
     "execution_count": 10,
     "metadata": {},
     "output_type": "execute_result"
    },
    {
     "data": {
      "image/png": "[encoded data removed]",
      "text/plain": [
       "<Figure size 432x288 with 1 Axes>"
      ]
     },
     "metadata": {
      "needs_background": "light"
     },
     "output_type": "display_data"
    }
   ],
   "source": [
    "plt.scatter(pca_py[:,0], pca_py[:,1])"
   ]
  },
  {
   "cell_type": "markdown",
   "metadata": {},
   "source": [
    "## Algorithm (wPCA)"
   ]
  },
  {
   "cell_type": "code",
   "execution_count": 11,
   "metadata": {},
   "outputs": [],
   "source": [
    "def wPCA_py(data, dim):\n",
    "    data = data.values\n",
    "    \n",
    "    n, m = data.shape\n",
    "    \n",
    "    mean = 1/n*np.sum(data, axis = 0)\n",
    "    data = data - mean\n",
    "    \n",
    "    #data = data.T @ (np.eye(n) - 1/n*np.ones((n, 1)) @ np.ones((1, n)))\n",
    "    \n",
    "    St = data @ data.T\n",
    "    \n",
    "    w, v = np.linalg.eig(St)\n",
    "    \n",
    "    idx = w.argsort()[::-1]   \n",
    "    w = w[idx]\n",
    "    w = np.diag(w)\n",
    "    v = v[:,idx]\n",
    "    \n",
    "    w_inv = np.linalg.inv(w)\n",
    "    w_inv[w_inv <0] = 0\n",
    "    \n",
    "    u = data.T @ v @ w_inv\n",
    "    \n",
    "    np.nan_to_num(u)\n",
    "    \n",
    "    u_red = u[:,:dim]\n",
    "    \n",
    "    y = data @ u_red\n",
    "    \n",
    "    np.nan_to_num(y)\n",
    "    \n",
    "    data_reconstruct = y @ u_red.T + mean\n",
    "    \n",
    "    return u_red, y, data_reconstruct"
   ]
  },
  {
   "cell_type": "markdown",
   "metadata": {},
   "source": [
    "#  Linear Discriminant Analysis (LDA)\n",
    "\n",
    "The PCA is an unsupervised approach, good for compression of data and data reconstruction, but it does not take advantage of the labels. The Linear Discriminant Analysis (LDA) tries to define a latent space in this case.\n",
    "\n",
    "The main idea is that:\n",
    "- the  data consisting each class look more like each other: minimize the variance inner class,\n",
    "- the data of separate classes look more dissimilar: increase the distance between their means.\n",
    "\n",
    "We can define the within-class scatter matrix as:\n",
    "\n",
    "\\begin{align*}\n",
    "S_w = \\sum_{j=1}^{C}\\frac{1}{N_{c_j}} \\sum_{x_i \\in c_j}(x_i - \\mu(c_j))(x_i - \\mu(c_j))^T\n",
    "\\end{align*}\n",
    "\n",
    "Where $C$ is the number of classes, and $N_{c_j}$ the number of examples in the class $c_j$.\n",
    "\n",
    "The between-class scatter matrix is:\n",
    "\n",
    "\\begin{align*}\n",
    "S_b = \\sum_{j=1}^{C}(\\mu(c_j)-m)(\\mu(c_j)-m)^T\n",
    "\\end{align*}\n",
    "\n",
    "Since the two matrices have been defined for $x$, and we want to make the optimisation on the $y = W^T x$, we are looking for $W$ such that the following ratio is maximized:\n",
    "\n",
    "\\begin{align*}\n",
    "\\frac{W^T S_b W}{W^T S_w W}\n",
    "\\end{align*}\n",
    "\n",
    "This is equivalent to solve the optimisation problem:\n",
    "\n",
    "\\begin{align*}\n",
    "\\max \\mathrm{Tr} (W^T S_b W) \\text{ s.t. } W^T S_w W =I\n",
    "\\end{align*}\n",
    "\n",
    "The Lagrangian of the problem is:\n",
    "\n",
    "\\begin{align*}\n",
    "L(W, \\Lambda) = \\mathrm{Tr}(W^T S_b W) - \\mathrm{Tr}(\\Lambda (W^T S_w W - I))\n",
    "\\end{align*}\n",
    "\n",
    "Taking the partial derivative with respect to $W$:\n",
    "\n",
    "\\begin{align*}\n",
    "\\frac{ \\partial L}{\\partial W} = 2 S_b W - 2 S_w W \\Lambda = 0\n",
    "\\end{align*}\n",
    "\n",
    "So:\n",
    "\n",
    "\\begin{align*}\n",
    "S_b W = S_w W \\Lambda\n",
    "\\end{align*}\n",
    "\n",
    "As a result, the column of $W$ are the eigenvectors of $S_w^{-1}S_b$.\n",
    "\n",
    "To deal with the potential singularity of the $S_w$, we can apply the following steps:\n",
    "- perform PCA on our data matrix $X$ ro reduce the dimensions to $n - (C+1)$ using the eigenvectors $U$,\n",
    "- solve LDA on this reduced space ($Y = U^TX$) and get optimal matrix $Q$ that has $C-1$ column,\n",
    "- compute the total transformation as $W = UQ$.\n",
    "\n",
    "To avoid loss of information, the proper way to do that is called 'simultaneous diagolisation procedure'.\n",
    "\n",
    "## Practical computation\n",
    "The full procedure is:\n",
    "1. find the eigenvectors of $S_w$ that correspond to the non-zero eigenvalues (usually $n − (C + 1)$), ie $U = (u_1, ..., u_{n−(C+1)})$ by performing eigen-analysis to $(I − M)X^T X(I − M) = V_w \\Lambda_w V_w^T$ and computing $U = X(I − M)V_w Λ_w^{−1}$ (performing whitening on $S_w$),\n",
    "2. Project the data as $X_b = U^T X M$,\n",
    "3. Perform PCA on $X_b$ to find $Q$ (compute the eigenanalysis of $X_b X_b^T = Q \\Lambda_b Q^T$),\n",
    "4. The total transform is $W = UQ$."
   ]
  },
  {
   "cell_type": "markdown",
   "metadata": {},
   "source": [
    "## Algorithm"
   ]
  },
  {
   "cell_type": "code",
   "execution_count": 31,
   "metadata": {},
   "outputs": [],
   "source": [
    "def LDA(data, labels, dim_PCA):\n",
    "    data = data.values\n",
    "    \n",
    "    n, m = data.shape\n",
    "\n",
    "    C = labels.iloc[:,0].value_counts().shape[0] #calculating the number of classes\n",
    "\n",
    "    M = np.zeros((n, n)) #creating a huge matrix M to store all the Ei\n",
    "\n",
    "    j = 0 #index of the matrix Ei\n",
    "\n",
    "    for i in range(1,C):\n",
    "\n",
    "        tempX = data[labels[0] == i,:] #xi corresponding to the current class\n",
    "\n",
    "        n_i = tempX.shape[0] #number of elements corresponding to the given class\n",
    "\n",
    "        E = np.ones((n_i, n_i)) * 1/n_i #building the matrix Ei\n",
    "\n",
    "        M[j:j+n_i,j:j+n_i] = E #putting the matrix Ei in the huge matrix M\n",
    "\n",
    "        j = j+n_i; #calculating the index of the position of the next matrix E_i+1\n",
    "\n",
    "    MI = np.eye(n) - M #defining \"MI\" to simplify further equation\n",
    "\n",
    "    dim = n - (C+1) #defining \"dim\" to simplify further equation\n",
    "\n",
    "    w, v = np.linalg.eig(MI @ data @ data.T @ MI)\n",
    "    \n",
    "    idx = w.argsort()[::-1]   \n",
    "    w = w[idx]\n",
    "    w = np.diag(w)\n",
    "    v = v[:,idx]\n",
    "    \n",
    "    w = w[:dim,:dim]\n",
    "    v = v[:,:dim]\n",
    "    \n",
    "    U = data.T @ MI @ v @ np.linalg.inv(w)\n",
    "    \n",
    "    Xb = U.T @ data.T @ M\n",
    "    \n",
    "    Xb = pd.DataFrame(Xb)\n",
    "    \n",
    "    Q = PCA_py(Xb.T,dim_PCA)[0] #computing PCA on the projected matrix\n",
    "    \n",
    "    W = U @ Q #compute the final projection matrix\n",
    "    \n",
    "    W = np.real(W)\n",
    "    \n",
    "    y = data @ W\n",
    "    \n",
    "    np.nan_to_num(y)\n",
    "    \n",
    "    data_reconstruct = y @ W.T\n",
    "    \n",
    "    return W, y, data_reconstruct"
   ]
  },
  {
   "cell_type": "code",
   "execution_count": 32,
   "metadata": {},
   "outputs": [
    {
     "data": {
      "text/plain": [
       "(4096, 50)"
      ]
     },
     "execution_count": 32,
     "metadata": {},
     "output_type": "execute_result"
    }
   ],
   "source": [
    "LDA(X_train, y_train, 50)[0].shape"
   ]
  },
  {
   "cell_type": "markdown",
   "metadata": {},
   "source": [
    "# Precision and reconstruction"
   ]
  },
  {
   "cell_type": "code",
   "execution_count": 33,
   "metadata": {},
   "outputs": [],
   "source": [
    "def knn(dim_red_algo, X_train, X_test, y_train, y_test):\n",
    "    mse_table = []\n",
    "    precision_table = []\n",
    "    for i in range(1,30):\n",
    "        if dim_red_algo == LDA:\n",
    "            u_red, y, data_re = dim_red_algo(X_train, y_train, i)\n",
    "        else:\n",
    "            u_red, y, data_re = dim_red_algo(X_train, i)\n",
    "            \n",
    "        mse = ((X_train.values - data_re)**2).mean()\n",
    "        mse_table.append(mse)\n",
    "        \n",
    "        X_train_red = X_train @ u_red\n",
    "        X_test_red = X_test @ u_red\n",
    "        \n",
    "        neigh = KNeighborsClassifier(n_neighbors=1)\n",
    "        neigh.fit(X_train_red, y_train.values.ravel())\n",
    "        y_pred = neigh.predict(X_test_red)\n",
    "        precision = precision_score(y_test, y_pred, average='micro')\n",
    "        precision_table.append(precision)\n",
    "    \n",
    "    return mse_table, precision_table"
   ]
  },
  {
   "cell_type": "code",
   "execution_count": 34,
   "metadata": {},
   "outputs": [],
   "source": [
    "mse_table_PCA, precision_table_PCA = knn(PCA_py, X_train, X_test, y_train, y_test)\n",
    "mse_table_wPCA, precision_table_wPCA = knn(wPCA_py, X_train, X_test, y_train, y_test)\n",
    "mse_table_LDA, precision_table_LDA = knn(LDA, X_train, X_test, y_train, y_test)"
   ]
  },
  {
   "cell_type": "code",
   "execution_count": 35,
   "metadata": {},
   "outputs": [
    {
     "data": {
      "image/png": "[encoded data removed]",
      "text/plain": [
       "<Figure size 1080x1080 with 2 Axes>"
      ]
     },
     "metadata": {
      "needs_background": "light"
     },
     "output_type": "display_data"
    }
   ],
   "source": [
    "plt.figure(figsize=(15,15))\n",
    "\n",
    "plt.subplot(321)\n",
    "plt.plot(precision_table_PCA, label='PCA')\n",
    "plt.plot(precision_table_wPCA, label='wPCA')\n",
    "plt.plot(precision_table_LDA, label='LDA')\n",
    "plt.xlabel('Nb features')\n",
    "plt.ylabel('precision')\n",
    "plt.title('Precision')\n",
    "plt.legend()\n",
    "\n",
    "plt.subplot(322)\n",
    "plt.plot(mse_table_PCA, label='PCA')\n",
    "plt.plot(mse_table_wPCA, label='wPCA')\n",
    "plt.plot(mse_table_LDA, label='wPCA')\n",
    "plt.xlabel('Nb features')\n",
    "plt.ylabel('MSE')\n",
    "plt.title('Reconstruction')\n",
    "plt.legend()\n",
    "\n",
    "plt.show()"
   ]
  },
  {
   "cell_type": "code",
   "execution_count": null,
   "metadata": {},
   "outputs": [],
   "source": []
  }
 ],
 "metadata": {
  "kernelspec": {
   "display_name": "Python 3",
   "language": "python",
   "name": "python3"
  },
  "language_info": {
   "codemirror_mode": {
    "name": "ipython",
    "version": 3
   },
   "file_extension": ".py",
   "mimetype": "text/x-python",
   "name": "python",
   "nbconvert_exporter": "python",
   "pygments_lexer": "ipython3",
   "version": "3.6.7"
  },
  "varInspector": {
   "cols": {
    "lenName": 16,
    "lenType": 16,
    "lenVar": 40
   },
   "kernels_config": {
    "python": {
     "delete_cmd_postfix": "",
     "delete_cmd_prefix": "del ",
     "library": "var_list.py",
     "varRefreshCmd": "print(var_dic_list())"
    },
    "r": {
     "delete_cmd_postfix": ") ",
     "delete_cmd_prefix": "rm(",
     "library": "var_list.r",
     "varRefreshCmd": "cat(var_dic_list()) "
    }
   },
   "types_to_exclude": [
    "module",
    "function",
    "builtin_function_or_method",
    "instance",
    "_Feature"
   ],
   "window_display": false
  }
 },
 "nbformat": 4,
 "nbformat_minor": 2
}
