{
 "cells": [
  {
   "cell_type": "markdown",
   "metadata": {},
   "source": [
    "# PCA-LDA"
   ]
  },
  {
   "cell_type": "markdown",
   "metadata": {},
   "source": [
    "Given a collection of of n m-dimensional samples stored in the columns of matrix $X = [x_1 , . . . , x_n ]$. We also assume that data are centered. Otherwise, we can always substract the mean $m = \\frac{1}{n} \\sum_{i=1}^{n}x_i$.\n",
    "\n",
    "An efficient way of doing this is:\n",
    "\n",
    "\\begin{align*}\n",
    "X − M = X \\left(I − \\frac{1}{n}1_n1_n^T \\right)\n",
    "\\end{align*}\n",
    "\n",
    "## Statistical perspective\n",
    "We want to find the vector $w$ such that the variance of the projected features $y_i = w_i^Tx_i$ is maximised.The variance can be expressed:\n",
    "\n",
    "\\begin{align*}\n",
    "\\sigma_y^2 = \\frac{1}{n} \\sum_{i=1}^{n}(y_i - \\mu_y)\n",
    "\\end{align*}\n",
    "\n",
    "Where $\\mu_y$ is the mean. Since we supposed the data are centered, $\\mu_y = 0$.\n",
    "\n",
    "The maximiser is:\n",
    "\n",
    "\\begin{align*}\n",
    "w^* & = \\mathrm{argmax}_{w} \\frac{1}{2n} \\sum_{i=1}^{n}(w^Tx_i)^2 = \\mathrm{argmax}_{w}  \\frac{1}{2n} \\sum_{i=1}^{n}w^Tx_i x_i^Tw\\\\\n",
    "& = \\mathrm{argmax}_{w} \\frac{1}{2} w^T\\frac{XX^T}{n}w  = \\mathrm{argmax}_{w} \\frac{1}{2} w^T S_tw  \n",
    "\\end{align*}\n",
    "\n",
    "Where $S_t = \\frac{XX^T}{n}$ is called the covariance matrix (or total-scatter matrix). We add the following constraint not to end up with a trivial solution $w=\\infty$.\n",
    "\n",
    "\\begin{align*}\n",
    "w^*  &= \\mathrm{argmax}_{w} \\frac{1}{2} w^T S_tw \\\\\n",
    "\\text{subject to } &w^Tw=1\n",
    "\\end{align*}\n",
    "\n",
    "The corresponding Lagrangian is:\n",
    "\n",
    "\\begin{align*}\n",
    "L(w, \\lambda) = \\frac{1}{2}w^TS_tw - \\lambda(w^Tw-1)\n",
    "\\end{align*}\n",
    "\n",
    "Taking the derivative:\n",
    "\\begin{align*}\n",
    "\\frac{ \\partial L}{\\partial w} = S_tw - \\lambda w = 0\n",
    "\\end{align*}\n",
    "\n",
    "This means $w$ is an eigenvector of $S_t$, and $\\lambda$ the corresponding eigenvalue. Plugging back this expression in the initial problem:\n",
    "\n",
    "\\begin{align*}\n",
    "\\lambda^* = \\mathrm{argmax}_{\\lambda} \\lambda\n",
    "\\end{align*}\n",
    "\n",
    "So the largest eigenvalue is chosen.\n",
    "\n",
    "This reasonning can be applied for $y_i \\in \\mathbb{R}^d$:\n",
    "\n",
    "\\begin{align*}\n",
    "W^* =& \\mathrm{argmax}_{W} \\frac{1}{2n} \\sum_{k=1}^{d} \\sum_{i=1}^{n} y_{ki}^2  = \\mathrm{argmax}_{W} \\frac{1}{2n} \\sum_{k=1}^{d} \\sum_{i=1}^{n} (w_k^Tx_i)^2 \\\\\n",
    "& = \\mathrm{argmax}_{W} \\frac{1}{2n} \\sum_{k=1}^{d} \\sum_{i=1}^{n} w_k^Tx_ix_i^Tw_k \\\\\n",
    "& = \\mathrm{argmax}_{W} \\frac{1}{2n} \\sum_{k=1}^{d}  w_k^T \\left(\\sum_{i=1}^{n}x_ix_i^T \\right)w_k \\\\\n",
    "& = \\mathrm{argmax}_{W} \\frac{1}{2} \\sum_{k=1}^{d}  w_k^T S_t w_k \\\\\n",
    "& = \\mathrm{argmax}_{W} \\frac{1}{2} \\mathrm{Tr} (W^T S_t W) \\\\\n",
    "\\end{align*}\n",
    "\n",
    "So the general problem is:\n",
    "\n",
    "\\begin{align*}\n",
    "\\max_W \\mathrm{Tr} (W^T S_tW) \\\\\n",
    "\\text{subject to } &W^TW=1\n",
    "\\end{align*}\n",
    "\n",
    "Taking the partial derivative of the Lagrangian leads to a similar condition:\n",
    "\n",
    "\\begin{align*}\n",
    "S_tW=W\\Lambda\n",
    "\\end{align*}\n",
    "\n",
    "Where $\\Lambda$ is the matrix of the Lagrange multipliers.\n",
    "\n",
    "Assuming the eigendecomposition of $S_t$ is $S_t = U \\Lambda U^T$, then $W = U_d = [u_1, ..., u_d]$.\n",
    "\n",
    "Similarly as above, the cost function can be written as:\n",
    "\n",
    "\\begin{align*}\n",
    "    \\mathrm{Tr}(W^TS_TW) = \\mathrm{Tr}(W^T U \\Lambda U^T W) = \\mathrm{Tr}(\\Lambda_d) = \\sum_{k=1}^{d} \\lambda_k\n",
    "\\end{align*}\n",
    "\n",
    "Since $\\lambda_k \\ge 0$, maximisation of the above is equivalent to take the $d$ largest eigenvalues."
   ]
  },
  {
   "cell_type": "code",
   "execution_count": null,
   "metadata": {},
   "outputs": [],
   "source": [
    "#load dataset"
   ]
  }
 ],
 "metadata": {
  "kernelspec": {
   "display_name": "Python 3",
   "language": "python",
   "name": "python3"
  },
  "language_info": {
   "codemirror_mode": {
    "name": "ipython",
    "version": 3
   },
   "file_extension": ".py",
   "mimetype": "text/x-python",
   "name": "python",
   "nbconvert_exporter": "python",
   "pygments_lexer": "ipython3",
   "version": "3.6.7"
  },
  "varInspector": {
   "cols": {
    "lenName": 16,
    "lenType": 16,
    "lenVar": 40
   },
   "kernels_config": {
    "python": {
     "delete_cmd_postfix": "",
     "delete_cmd_prefix": "del ",
     "library": "var_list.py",
     "varRefreshCmd": "print(var_dic_list())"
    },
    "r": {
     "delete_cmd_postfix": ") ",
     "delete_cmd_prefix": "rm(",
     "library": "var_list.r",
     "varRefreshCmd": "cat(var_dic_list()) "
    }
   },
   "types_to_exclude": [
    "module",
    "function",
    "builtin_function_or_method",
    "instance",
    "_Feature"
   ],
   "window_display": false
  }
 },
 "nbformat": 4,
 "nbformat_minor": 2
}
