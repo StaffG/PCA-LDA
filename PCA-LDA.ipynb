{
 "cells": [
  {
   "cell_type": "markdown",
   "metadata": {},
   "source": [
    "# PCA-LDA"
   ]
  },
  {
   "cell_type": "markdown",
   "metadata": {},
   "source": [
    "Given a collection of of n m-dimensional samples stored in the columns of matrix $X = [x_1 , . . . , x_n ]$. We also assume that data are centered. Otherwise, we can always substract the mean $m = \\frac{1}{n} \\sum_{i=1}^{n}x_i$.\n",
    "\n",
    "An efficient way of doing this is:\n",
    "\n",
    "\\begin{align*}\n",
    "X − M = X \\left(I − \\frac{1}{n}1_n1_n^T \\right)\n",
    "\\end{align*}\n",
    "\n",
    "## Statistical perspective\n",
    "We want to find the vector $w$ such that the variance of the projected features $y_i = w_i^Tx_i$ is maximised.The variance can be expressed:\n",
    "\n",
    "\\begin{align*}\n",
    "\\sigma_y^2 = \\frac{1}{n} \\sum_{i=1}^{n}(y_i - \\mu_y)\n",
    "\\end{align*}\n",
    "\n",
    "Where $\\mu_y$ is the mean. Since we supposed the data are centered, $\\mu_y = 0$.\n",
    "\n",
    "The maximiser is:\n",
    "\n",
    "\\begin{align*}\n",
    "w^* & = \\mathrm{argmax}_{w} \\frac{1}{2n} \\sum_{i=1}^{n}(w^Tx_i)^2 = \\mathrm{argmax}_{w}  \\frac{1}{2n} \\sum_{i=1}^{n}w^Tx_i x_i^Tw\\\\\n",
    "& = \\mathrm{argmax}_{w} \\frac{1}{2} w^T\\frac{XX^T}{n}w  = \\mathrm{argmax}_{w} \\frac{1}{2} w^T S_tw  \n",
    "\\end{align*}\n",
    "\n",
    "Where $S_t = \\frac{XX^T}{n}$ is called the covariance matrix (or total-scatter matrix). We add the following constraint not to end up with a trivial solution $w=\\infty$.\n",
    "\n",
    "\\begin{align*}\n",
    "w^*  &= \\mathrm{argmax}_{w} \\frac{1}{2} w^T S_tw \\\\\n",
    "\\text{subject to } &w^Tw=1\n",
    "\\end{align*}\n",
    "\n",
    "The corresponding Lagrangian is:\n",
    "\n",
    "\\begin{align*}\n",
    "L(w, \\lambda) = \\frac{1}{2}w^TS_tw - \\lambda(w^Tw-1)\n",
    "\\end{align*}\n",
    "\n",
    "Taking the derivative:\n",
    "\\begin{align*}\n",
    "\\frac{ \\partial L}{\\partial w} = S_tw - \\lambda w = 0\n",
    "\\end{align*}\n",
    "\n",
    "This means $w$ is an eigenvector of $S_t$, and $\\lambda$ the corresponding eigenvalue. Plugging back this expression in the initial problem:\n",
    "\n",
    "\\begin{align*}\n",
    "\\lambda^* = \\mathrm{argmax}_{\\lambda} \\lambda\n",
    "\\end{align*}\n",
    "\n",
    "So the largest eigenvalue is chosen.\n",
    "\n",
    "This reasonning can be applied for $y_i \\in \\mathbb{R}^d$:\n",
    "\n",
    "\\begin{align*}\n",
    "W^* =& \\mathrm{argmax}_{W} \\frac{1}{2n} \\sum_{k=1}^{d} \\sum_{i=1}^{n} y_{ki}^2  = \\mathrm{argmax}_{W} \\frac{1}{2n} \\sum_{k=1}^{d} \\sum_{i=1}^{n} (w_k^Tx_i)^2 \\\\\n",
    "& = \\mathrm{argmax}_{W} \\frac{1}{2n} \\sum_{k=1}^{d} \\sum_{i=1}^{n} w_k^Tx_ix_i^Tw_k \\\\\n",
    "& = \\mathrm{argmax}_{W} \\frac{1}{2n} \\sum_{k=1}^{d}  w_k^T \\left(\\sum_{i=1}^{n}x_ix_i^T \\right)w_k \\\\\n",
    "& = \\mathrm{argmax}_{W} \\frac{1}{2} \\sum_{k=1}^{d}  w_k^T S_t w_k \\\\\n",
    "& = \\mathrm{argmax}_{W} \\frac{1}{2} \\mathrm{Tr} (W^T S_t W) \\\\\n",
    "\\end{align*}\n",
    "\n",
    "So the general problem is:\n",
    "\n",
    "\\begin{align*}\n",
    "\\max_W \\mathrm{Tr} (W^T S_tW) \\\\\n",
    "\\text{subject to } &W^TW=1\n",
    "\\end{align*}\n",
    "\n",
    "Taking the partial derivative of the Lagrangian leads to a similar condition:\n",
    "\n",
    "\\begin{align*}\n",
    "S_tW=W\\Lambda\n",
    "\\end{align*}\n",
    "\n",
    "Where $\\Lambda$ is the matrix of the Lagrange multipliers.\n",
    "\n",
    "Assuming the eigendecomposition of $S_t$ is $S_t = U \\Lambda U^T$, then $W = U_d = [u_1, ..., u_d]$.\n",
    "\n",
    "Similarly as above, the cost function can be written as:\n",
    "\n",
    "\\begin{align*}\n",
    "    \\mathrm{Tr}(W^TS_TW) = \\mathrm{Tr}(W^T U \\Lambda U^T W) = \\mathrm{Tr}(\\Lambda_d) = \\sum_{k=1}^{d} \\lambda_k\n",
    "\\end{align*}\n",
    "\n",
    "Since $\\lambda_k \\ge 0$, maximisation of the above is equivalent to take the $d$ largest eigenvalues."
   ]
  },
  {
   "cell_type": "code",
   "execution_count": 39,
   "metadata": {},
   "outputs": [],
   "source": [
    "# http://www.cad.zju.edu.cn/home/dengcai/Data/FaceData.html\n",
    "# https://github.com/jindongwang/transferlearning/blob/master/data/dataset.md\n",
    "    \n",
    "import pandas as pd\n",
    "import numpy as np\n",
    "import matplotlib.pyplot as plt"
   ]
  },
  {
   "cell_type": "code",
   "execution_count": 21,
   "metadata": {},
   "outputs": [],
   "source": [
    "fea = pd.read_csv(\"fea64.csv\", header=None) \n",
    "gnd = pd.read_csv(\"gnd64.csv\", header=None) \n",
    "Train = pd.read_csv(\"Train5_64.csv\", header=None) "
   ]
  },
  {
   "cell_type": "code",
   "execution_count": 85,
   "metadata": {},
   "outputs": [
    {
     "name": "stdout",
     "output_type": "stream",
     "text": [
      "fea: (11554, 4096)\n",
      "gnd: (11554, 1)\n",
      "Train: (100, 340)\n"
     ]
    }
   ],
   "source": [
    "print('fea:', fea.shape) # each row is a 64x64 image (11554 examples)\n",
    "print('gnd:', gnd.shape) # label: 68 classes corresponding to the 68 subjects (11554 examples)\n",
    "print('Train:', Train.shape) "
   ]
  },
  {
   "cell_type": "code",
   "execution_count": 82,
   "metadata": {},
   "outputs": [
    {
     "data": {
      "image/png": "[encoded data removed]",
      "text/plain": [
       "<Figure size 432x288 with 1 Axes>"
      ]
     },
     "metadata": {
      "needs_background": "light"
     },
     "output_type": "display_data"
    }
   ],
   "source": [
    "ind = np.random.randint(fea.shape[0])\n",
    "img = fea.values[ind,:].reshape(64,64).T\n",
    "imgplot = plt.imshow(img)"
   ]
  },
  {
   "cell_type": "code",
   "execution_count": 234,
   "metadata": {},
   "outputs": [],
   "source": [
    "def PCA(data, dim):\n",
    "    n, m = data.shape\n",
    "    \n",
    "    mean = 1/n*np.sum(data, axis = 0)\n",
    "    data = data - mean\n",
    "    \n",
    "    w, v = np.linalg.eig(data @ data.T)\n",
    "    \n",
    "    idx = w.argsort()[::-1]   \n",
    "    w = w[idx]\n",
    "    w = np.diag(w)\n",
    "    v = v[:,idx]\n",
    "    \n",
    "    u = data.T @ v @ w\n",
    "    \n",
    "    return u"
   ]
  },
  {
   "cell_type": "code",
   "execution_count": 235,
   "metadata": {},
   "outputs": [
    {
     "data": {
      "text/plain": [
       "(3, 4096)"
      ]
     },
     "execution_count": 235,
     "metadata": {},
     "output_type": "execute_result"
    }
   ],
   "source": [
    "a = fea.values[:3,:]\n",
    "a.shape"
   ]
  },
  {
   "cell_type": "code",
   "execution_count": 236,
   "metadata": {},
   "outputs": [],
   "source": [
    "u = PCA(a, 1)"
   ]
  },
  {
   "cell_type": "code",
   "execution_count": 239,
   "metadata": {},
   "outputs": [
    {
     "data": {
      "text/plain": [
       "(4096, 3)"
      ]
     },
     "execution_count": 239,
     "metadata": {},
     "output_type": "execute_result"
    }
   ],
   "source": [
    "u.shape"
   ]
  },
  {
   "cell_type": "code",
   "execution_count": 28,
   "metadata": {},
   "outputs": [],
   "source": [
    "X = X';  %taking the transpose to fit the notations in the lecture notes\n",
    "\n",
    "[n, m] = size(X); %getting the number of lines and columns\n",
    " \n",
    "X = X*(eye(m)-1/(n*m)*ones(m,1)*transpose(ones(m,1))); %subtract the mean to the data\n",
    " \n",
    "[V,D] = eig(X'*X); %finding the eigenvectors V and eigenvalues D of the matrix of lower dimensions\n",
    " \n",
    "[~,ind] = sort(diag(D), 'descend'); % sorting the eigenvalues by putting the greater ones at the beginning\n",
    " \n",
    "Ds = D(ind,ind); % reordering the eigenvalue\n",
    " \n",
    "Vs = V(:,ind); % reordering the eigenvectors\n",
    " \n",
    "U = X*Vs*Ds^(-0.5); %building the eigenvectors of the matrix of greater dimensions\n",
    " \n",
    "Ud = U(:,1:dim); % choosing a chosen number of \"dim\" vectors\n",
    " \n",
    "ReturnVal = Ud;"
   ]
  },
  {
   "cell_type": "code",
   "execution_count": null,
   "metadata": {},
   "outputs": [],
   "source": []
  },
  {
   "cell_type": "code",
   "execution_count": null,
   "metadata": {},
   "outputs": [],
   "source": []
  }
 ],
 "metadata": {
  "kernelspec": {
   "display_name": "Python 3",
   "language": "python",
   "name": "python3"
  },
  "language_info": {
   "codemirror_mode": {
    "name": "ipython",
    "version": 3
   },
   "file_extension": ".py",
   "mimetype": "text/x-python",
   "name": "python",
   "nbconvert_exporter": "python",
   "pygments_lexer": "ipython3",
   "version": "3.6.7"
  },
  "varInspector": {
   "cols": {
    "lenName": 16,
    "lenType": 16,
    "lenVar": 40
   },
   "kernels_config": {
    "python": {
     "delete_cmd_postfix": "",
     "delete_cmd_prefix": "del ",
     "library": "var_list.py",
     "varRefreshCmd": "print(var_dic_list())"
    },
    "r": {
     "delete_cmd_postfix": ") ",
     "delete_cmd_prefix": "rm(",
     "library": "var_list.r",
     "varRefreshCmd": "cat(var_dic_list()) "
    }
   },
   "types_to_exclude": [
    "module",
    "function",
    "builtin_function_or_method",
    "instance",
    "_Feature"
   ],
   "window_display": false
  }
 },
 "nbformat": 4,
 "nbformat_minor": 2
}
